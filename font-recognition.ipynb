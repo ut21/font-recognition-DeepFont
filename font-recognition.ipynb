{
 "cells": [
  {
   "cell_type": "code",
   "execution_count": 2,
   "metadata": {},
   "outputs": [
    {
     "name": "stderr",
     "output_type": "stream",
     "text": [
      "2023-05-23 19:19:16.637268: I tensorflow/core/platform/cpu_feature_guard.cc:182] This TensorFlow binary is optimized to use available CPU instructions in performance-critical operations.\n",
      "To enable the following instructions: AVX2 FMA, in other operations, rebuild TensorFlow with the appropriate compiler flags.\n"
     ]
    }
   ],
   "source": [
    "from matplotlib.pyplot import imshow\n",
    "import matplotlib.cm as cm\n",
    "import matplotlib.pylab as plt\n",
    "from keras.preprocessing.image import ImageDataGenerator\n",
    "import numpy as np\n",
    "import PIL\n",
    "from PIL import ImageFilter\n",
    "import cv2\n",
    "import itertools\n",
    "import random\n",
    "import keras\n",
    "import imutils\n",
    "from imutils import paths\n",
    "import os\n",
    "from keras import optimizers\n",
    "from tensorflow.keras.utils import img_to_array\n",
    "from sklearn.model_selection import train_test_split\n",
    "from keras.utils import to_categorical\n",
    "from keras import callbacks\n",
    "from keras.models import Sequential\n",
    "from tensorflow.keras.layers import BatchNormalization\n",
    "from keras.layers import Dense, Dropout, Flatten\n",
    "from keras.layers import Conv2D, MaxPooling2D , UpSampling2D ,Conv2DTranspose\n",
    "from keras import backend as K\n",
    "\n",
    "%matplotlib inline"
   ]
  },
  {
   "cell_type": "code",
   "execution_count": 3,
   "metadata": {},
   "outputs": [],
   "source": [
    "def pil_image(img_path):\n",
    "    pil_im =PIL.Image.open(img_path).convert('L')\n",
    "    pil_im=pil_im.resize((105,105))\n",
    "    #imshow(np.asarray(pil_im))\n",
    "    return pil_im"
   ]
  },
  {
   "cell_type": "code",
   "execution_count": 4,
   "metadata": {},
   "outputs": [],
   "source": [
    "data_path = \"font_patch/\"\n",
    "data=[]\n",
    "labels=[]\n",
    "imagePaths = sorted(list(paths.list_images(data_path)))\n",
    "random.seed(42)\n",
    "random.shuffle(imagePaths)"
   ]
  },
  {
   "cell_type": "code",
   "execution_count": 5,
   "metadata": {},
   "outputs": [],
   "source": [
    "def conv_label(label):\n",
    "    if label == 'Lato':\n",
    "        return 0\n",
    "    elif label == 'Raleway':\n",
    "        return 1\n",
    "    elif label == 'Roboto':\n",
    "        return 2\n",
    "    elif label == 'Sansation':\n",
    "        return 3\n",
    "    elif label == 'Walkway':\n",
    "        return 4"
   ]
  },
  {
   "cell_type": "code",
   "execution_count": 6,
   "metadata": {},
   "outputs": [],
   "source": [
    "counter=0\n",
    "for imagePath in imagePaths:\n",
    "    label = imagePath.split(os.path.sep)[-2]\n",
    "    label = conv_label(label)\n",
    "    pil_img = pil_image(imagePath)\n",
    "    #imshow(pil_img)\n",
    "    \n",
    "    # Adding original image\n",
    "    org_img = img_to_array(pil_img)\n",
    "    #print(org_img.shape)\n",
    "    data.append(org_img)\n",
    "    labels.append(label)"
   ]
  },
  {
   "cell_type": "code",
   "execution_count": 7,
   "metadata": {},
   "outputs": [
    {
     "name": "stdout",
     "output_type": "stream",
     "text": [
      "Success\n"
     ]
    }
   ],
   "source": [
    "data = np.asarray(data, dtype=\"float\") / 255.0\n",
    "labels = np.array(labels)\n",
    "print(\"Success\")\n",
    "# partition the data into training and testing splits using 75% of\n",
    "# the data for training and the remaining 25% for testing\n",
    "(trainX, testX, trainY, testY) = train_test_split(data,\n",
    "\tlabels, test_size=0.25, random_state=42)"
   ]
  },
  {
   "cell_type": "code",
   "execution_count": 8,
   "metadata": {},
   "outputs": [],
   "source": [
    "trainY = to_categorical(trainY, num_classes=5)\n",
    "testY = to_categorical(testY, num_classes=5)"
   ]
  },
  {
   "cell_type": "code",
   "execution_count": 9,
   "metadata": {},
   "outputs": [],
   "source": [
    "def create_model():\n",
    "  model=Sequential()\n",
    "\n",
    "  # Cu Layers \n",
    "  model.add(Conv2D(64, kernel_size=(48, 48), activation='relu', input_shape=(105,105,1)))\n",
    "  model.add(BatchNormalization())\n",
    "  model.add(MaxPooling2D(pool_size=(2, 2)))\n",
    "\n",
    "  model.add(Conv2D(128, kernel_size=(24, 24), activation='relu'))\n",
    "  model.add(BatchNormalization())\n",
    "  model.add(MaxPooling2D(pool_size=(2, 2)))\n",
    "\n",
    "  model.add(Conv2DTranspose(128, (24,24), strides = (2,2), activation = 'relu', padding='same', kernel_initializer='uniform'))\n",
    "  model.add(UpSampling2D(size=(2, 2)))\n",
    "\n",
    "  model.add(Conv2DTranspose(64, (12,12), strides = (2,2), activation = 'relu', padding='same', kernel_initializer='uniform'))\n",
    "  model.add(UpSampling2D(size=(2, 2)))\n",
    "\n",
    "  #Cs Layers\n",
    "  model.add(Conv2D(256, kernel_size=(12, 12), activation='relu'))\n",
    "\n",
    "  model.add(Conv2D(256, kernel_size=(12, 12), activation='relu'))\n",
    "\n",
    "  model.add(Conv2D(256, kernel_size=(12, 12), activation='relu'))\n",
    "\n",
    "  model.add(Flatten())\n",
    "\n",
    "  model.add(Dense(4096, activation='relu'))\n",
    "\n",
    "  model.add(Dropout(0.5))\n",
    "\n",
    "  model.add(Dense(4096,activation='relu'))\n",
    "\n",
    "  model.add(Dropout(0.5))\n",
    "\n",
    "  model.add(Dense(2383,activation='relu'))\n",
    "\n",
    "  model.add(Dense(5, activation='softmax'))\n",
    " \n",
    "  return model"
   ]
  },
  {
   "cell_type": "code",
   "execution_count": 10,
   "metadata": {},
   "outputs": [
    {
     "name": "stderr",
     "output_type": "stream",
     "text": [
      "/Users/apple/Desktop/font-recognition/.venv/lib/python3.11/site-packages/keras/optimizers/legacy/gradient_descent.py:114: UserWarning: The `lr` argument is deprecated, use `learning_rate` instead.\n",
      "  super().__init__(name, **kwargs)\n"
     ]
    }
   ],
   "source": [
    "batch_size = 128\n",
    "epochs = 10\n",
    "model= create_model()\n",
    "sgd = optimizers.SGD(lr=0.01, decay=1e-6, momentum=0.9, nesterov=True)\n",
    "model.compile(loss='mean_squared_error', optimizer=sgd, metrics=['accuracy'])"
   ]
  },
  {
   "cell_type": "code",
   "execution_count": 11,
   "metadata": {},
   "outputs": [],
   "source": [
    "early_stopping=callbacks.EarlyStopping(monitor='val_loss', min_delta=0, patience=10, verbose=0, mode='min')\n",
    "\n",
    "filepath=\"top_model.h5\"\n",
    "\n",
    "checkpoint = callbacks.ModelCheckpoint(filepath, monitor='val_loss', verbose=1, save_best_only=True, mode='min')\n",
    "\n",
    "callbacks_list = [early_stopping,checkpoint]"
   ]
  },
  {
   "cell_type": "code",
   "execution_count": 12,
   "metadata": {},
   "outputs": [
    {
     "name": "stdout",
     "output_type": "stream",
     "text": [
      "Epoch 1/10\n",
      "1/1 [==============================] - ETA: 0s - loss: 0.1660 - accuracy: 0.1724\n",
      "Epoch 1: val_loss improved from inf to 0.15909, saving model to top_model.h5\n",
      "1/1 [==============================] - 115s 115s/step - loss: 0.1660 - accuracy: 0.1724 - val_loss: 0.1591 - val_accuracy: 0.6000\n",
      "Epoch 2/10\n",
      "1/1 [==============================] - ETA: 0s - loss: 0.1549 - accuracy: 0.2759\n",
      "Epoch 2: val_loss improved from 0.15909 to 0.15811, saving model to top_model.h5\n",
      "1/1 [==============================] - 134s 134s/step - loss: 0.1549 - accuracy: 0.2759 - val_loss: 0.1581 - val_accuracy: 0.5000\n",
      "Epoch 3/10\n",
      "1/1 [==============================] - ETA: 0s - loss: 0.1645 - accuracy: 0.3103\n",
      "Epoch 3: val_loss improved from 0.15811 to 0.15726, saving model to top_model.h5\n",
      "1/1 [==============================] - 86s 86s/step - loss: 0.1645 - accuracy: 0.3103 - val_loss: 0.1573 - val_accuracy: 0.5000\n",
      "Epoch 4/10\n",
      "1/1 [==============================] - ETA: 0s - loss: 0.1445 - accuracy: 0.4138\n",
      "Epoch 4: val_loss improved from 0.15726 to 0.15622, saving model to top_model.h5\n",
      "1/1 [==============================] - 58s 58s/step - loss: 0.1445 - accuracy: 0.4138 - val_loss: 0.1562 - val_accuracy: 0.5000\n",
      "Epoch 5/10\n",
      "1/1 [==============================] - ETA: 0s - loss: 0.1428 - accuracy: 0.3448\n",
      "Epoch 5: val_loss improved from 0.15622 to 0.15516, saving model to top_model.h5\n",
      "1/1 [==============================] - 47s 47s/step - loss: 0.1428 - accuracy: 0.3448 - val_loss: 0.1552 - val_accuracy: 0.5000\n",
      "Epoch 6/10\n",
      "1/1 [==============================] - ETA: 0s - loss: 0.1408 - accuracy: 0.4483\n",
      "Epoch 6: val_loss improved from 0.15516 to 0.15332, saving model to top_model.h5\n",
      "1/1 [==============================] - 43s 43s/step - loss: 0.1408 - accuracy: 0.4483 - val_loss: 0.1533 - val_accuracy: 0.5000\n",
      "Epoch 7/10\n",
      "1/1 [==============================] - ETA: 0s - loss: 0.1360 - accuracy: 0.4138\n",
      "Epoch 7: val_loss did not improve from 0.15332\n",
      "1/1 [==============================] - 35s 35s/step - loss: 0.1360 - accuracy: 0.4138 - val_loss: 0.1550 - val_accuracy: 0.5000\n",
      "Epoch 8/10\n",
      "1/1 [==============================] - ETA: 0s - loss: 0.1319 - accuracy: 0.4483\n",
      "Epoch 8: val_loss did not improve from 0.15332\n",
      "1/1 [==============================] - 34s 34s/step - loss: 0.1319 - accuracy: 0.4483 - val_loss: 0.1566 - val_accuracy: 0.5000\n",
      "Epoch 9/10\n",
      "1/1 [==============================] - ETA: 0s - loss: 0.1289 - accuracy: 0.5517\n",
      "Epoch 9: val_loss did not improve from 0.15332\n",
      "1/1 [==============================] - 36s 36s/step - loss: 0.1289 - accuracy: 0.5517 - val_loss: 0.1542 - val_accuracy: 0.5000\n",
      "Epoch 10/10\n",
      "1/1 [==============================] - ETA: 0s - loss: 0.1232 - accuracy: 0.5172\n",
      "Epoch 10: val_loss did not improve from 0.15332\n",
      "1/1 [==============================] - 39s 39s/step - loss: 0.1232 - accuracy: 0.5172 - val_loss: 0.1535 - val_accuracy: 0.5000\n"
     ]
    }
   ],
   "source": [
    "history=model.fit(trainX, trainY,shuffle=True,\n",
    "          batch_size=batch_size,\n",
    "          epochs=epochs,\n",
    "          verbose=1,\n",
    "          validation_data=(testX, testY),callbacks=callbacks_list)"
   ]
  },
  {
   "cell_type": "code",
   "execution_count": 14,
   "metadata": {},
   "outputs": [
    {
     "data": {
      "image/png": "[encoded data removed]",
      "text/plain": [
       "<Figure size 640x480 with 1 Axes>"
      ]
     },
     "metadata": {},
     "output_type": "display_data"
    }
   ],
   "source": [
    "plt.plot(history.history['loss'], label='loss')\n",
    "plt.title('Loss')\n",
    "plt.xlabel('epoch')\n",
    "plt.ylabel('loss')\n",
    "plt.legend(['train'],loc='upper right')\n",
    "plt.show()"
   ]
  },
  {
   "cell_type": "code",
   "execution_count": 15,
   "metadata": {},
   "outputs": [
    {
     "data": {
      "image/png": "[encoded data removed]",
      "text/plain": [
       "<Figure size 640x480 with 1 Axes>"
      ]
     },
     "metadata": {},
     "output_type": "display_data"
    }
   ],
   "source": [
    "plt.plot(history.history['accuracy'], label='accuracy')\n",
    "plt.title('Accuracy')\n",
    "plt.xlabel('epoch')\n",
    "plt.ylabel('accuracy')\n",
    "plt.legend(['train'],loc='lower right')\n",
    "plt.show()"
   ]
  },
  {
   "cell_type": "code",
   "execution_count": 13,
   "metadata": {},
   "outputs": [
    {
     "name": "stdout",
     "output_type": "stream",
     "text": [
      "Test loss: 0.15346089005470276\n",
      "Test accuracy: 0.5\n"
     ]
    }
   ],
   "source": [
    "score = model.evaluate(testX, testY, verbose=0)\n",
    "print('Test loss:', score[0])\n",
    "print('Test accuracy:', score[1])"
   ]
  }
 ],
 "metadata": {
  "kernelspec": {
   "display_name": ".venv",
   "language": "python",
   "name": "python3"
  },
  "language_info": {
   "codemirror_mode": {
    "name": "ipython",
    "version": 3
   },
   "file_extension": ".py",
   "mimetype": "text/x-python",
   "name": "python",
   "nbconvert_exporter": "python",
   "pygments_lexer": "ipython3",
   "version": "3.11.2"
  },
  "orig_nbformat": 4
 },
 "nbformat": 4,
 "nbformat_minor": 2
}
